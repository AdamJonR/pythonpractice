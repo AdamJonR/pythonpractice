{
 "cells": [
  {
   "cell_type": "markdown",
   "id": "e638462e",
   "metadata": {},
   "source": [
    "# Coding Set 1\n",
    "\n",
    "Here are my problems and solutions for Chapter 1."
   ]
  },
  {
   "cell_type": "code",
   "execution_count": 2,
   "id": "06f60729",
   "metadata": {},
   "outputs": [
    {
     "name": "stdout",
     "output_type": "stream",
     "text": [
      "Hello\n"
     ]
    }
   ],
   "source": [
    "print(\"Hello\")"
   ]
  },
  {
   "cell_type": "code",
   "execution_count": 3,
   "id": "1c86d8d1",
   "metadata": {},
   "outputs": [
    {
     "ename": "SyntaxError",
     "evalue": "incomplete input (290942452.py, line 1)",
     "output_type": "error",
     "traceback": [
      "\u001b[1;36m  Cell \u001b[1;32mIn[3], line 1\u001b[1;36m\u001b[0m\n\u001b[1;33m    print(\"Hi\"\u001b[0m\n\u001b[1;37m              ^\u001b[0m\n\u001b[1;31mSyntaxError\u001b[0m\u001b[1;31m:\u001b[0m incomplete input\n"
     ]
    }
   ],
   "source": [
    "print(\"Hi\""
   ]
  },
  {
   "cell_type": "markdown",
   "id": "01ef2abd",
   "metadata": {},
   "source": [
    "# Figuring out my error\n",
    "\n",
    "[explain your work to figure out the error]"
   ]
  },
  {
   "cell_type": "code",
   "execution_count": 4,
   "id": "1aa82d00",
   "metadata": {},
   "outputs": [
    {
     "name": "stdout",
     "output_type": "stream",
     "text": [
      "Hi\n"
     ]
    }
   ],
   "source": [
    "print(\"Hi\")"
   ]
  },
  {
   "cell_type": "code",
   "execution_count": 5,
   "id": "1b4c6309",
   "metadata": {},
   "outputs": [],
   "source": [
    "def wow_functions():\n",
    "    pass"
   ]
  },
  {
   "cell_type": "code",
   "execution_count": null,
   "id": "e2c4d81e",
   "metadata": {},
   "outputs": [],
   "source": []
  }
 ],
 "metadata": {
  "kernelspec": {
   "display_name": "Python 3 (ipykernel)",
   "language": "python",
   "name": "python3"
  },
  "language_info": {
   "codemirror_mode": {
    "name": "ipython",
    "version": 3
   },
   "file_extension": ".py",
   "mimetype": "text/x-python",
   "name": "python",
   "nbconvert_exporter": "python",
   "pygments_lexer": "ipython3",
   "version": "3.11.5"
  }
 },
 "nbformat": 4,
 "nbformat_minor": 5
}
