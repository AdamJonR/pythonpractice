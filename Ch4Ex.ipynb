{
 "cells": [
  {
   "cell_type": "code",
   "execution_count": null,
   "metadata": {},
   "outputs": [],
   "source": []
  },
  {
   "attachments": {},
   "cell_type": "markdown",
   "metadata": {},
   "source": [
    "# (12) Calculating the Factorial of a Number\n",
    "\n",
    "Paragraph description"
   ]
  },
  {
   "cell_type": "code",
   "execution_count": 20,
   "metadata": {},
   "outputs": [],
   "source": [
    "# get and store a non-negative number\n",
    "num = int(input(\"Enter a number greater than zero: \"))"
   ]
  },
  {
   "cell_type": "code",
   "execution_count": 21,
   "metadata": {},
   "outputs": [],
   "source": [
    "# use a while loop to ensure the number is valid\n",
    "while num < 1:\n",
    "    # remind users of the rules\n",
    "    if num < 0:\n",
    "        # remind use of the rules\n",
    "        print(\"Hey, I said non-negative!\")\n",
    "    else:\n",
    "        # remind use of the rules\n",
    "        print(\"Hey, I said non-zero!\")\n",
    "    # get and store a non-negative number\n",
    "    num = int(input(\"Enter a non-negative number: \"))"
   ]
  },
  {
   "cell_type": "code",
   "execution_count": 22,
   "metadata": {},
   "outputs": [],
   "source": [
    "factorial = 1\n",
    "\n",
    "for n in range(1, num + 1):\n",
    "    # same as factorial = factorial * n\n",
    "    # 1 * 1 = 1\n",
    "    # 1 * 2 = 2\n",
    "    # 2 * 3 = 6\n",
    "    factorial *= n"
   ]
  },
  {
   "cell_type": "code",
   "execution_count": 23,
   "metadata": {},
   "outputs": [
    {
     "data": {
      "text/plain": [
       "24"
      ]
     },
     "execution_count": 23,
     "metadata": {},
     "output_type": "execute_result"
    }
   ],
   "source": [
    "factorial"
   ]
  },
  {
   "attachments": {},
   "cell_type": "markdown",
   "metadata": {},
   "source": []
  }
 ],
 "metadata": {
  "kernelspec": {
   "display_name": "base",
   "language": "python",
   "name": "python3"
  },
  "language_info": {
   "codemirror_mode": {
    "name": "ipython",
    "version": 3
   },
   "file_extension": ".py",
   "mimetype": "text/x-python",
   "name": "python",
   "nbconvert_exporter": "python",
   "pygments_lexer": "ipython3",
   "version": "3.9.12"
  },
  "orig_nbformat": 4
 },
 "nbformat": 4,
 "nbformat_minor": 2
}
