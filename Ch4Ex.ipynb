{
 "cells": [
  {
   "cell_type": "code",
   "execution_count": null,
   "metadata": {},
   "outputs": [],
   "source": []
  },
  {
   "attachments": {},
   "cell_type": "markdown",
   "metadata": {},
   "source": [
    "# (12) Calculating the Factorial of a Number\n",
    "\n",
    "Paragraph description"
   ]
  },
  {
   "cell_type": "code",
   "execution_count": 5,
   "metadata": {},
   "outputs": [],
   "source": [
    "# get and store a non-negative number\n",
    "num = int(input(\"Enter a non-zero, non-negative number: \"))"
   ]
  },
  {
   "cell_type": "code",
   "execution_count": 6,
   "metadata": {},
   "outputs": [
    {
     "name": "stdout",
     "output_type": "stream",
     "text": [
      "Hey, I said non-negative!\n",
      "Hey, I said non-negative!\n"
     ]
    }
   ],
   "source": [
    "# use a while loop to ensure the number is valid\n",
    "while num < 1:\n",
    "    if num < 0:\n",
    "        # remind use of the rules\n",
    "        print(\"Hey, I said non-negative!\")\n",
    "    else:\n",
    "        # remind use of the rules\n",
    "        print(\"Hey, I said non-zero!\")\n",
    "    # get and store a non-negative number\n",
    "    num = int(input(\"Enter a non-negative number: \"))"
   ]
  },
  {
   "attachments": {},
   "cell_type": "markdown",
   "metadata": {},
   "source": []
  }
 ],
 "metadata": {
  "kernelspec": {
   "display_name": "base",
   "language": "python",
   "name": "python3"
  },
  "language_info": {
   "codemirror_mode": {
    "name": "ipython",
    "version": 3
   },
   "file_extension": ".py",
   "mimetype": "text/x-python",
   "name": "python",
   "nbconvert_exporter": "python",
   "pygments_lexer": "ipython3",
   "version": "3.9.12"
  },
  "orig_nbformat": 4
 },
 "nbformat": 4,
 "nbformat_minor": 2
}
