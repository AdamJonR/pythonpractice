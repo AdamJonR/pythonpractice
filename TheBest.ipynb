{
 "cells": [
  {
   "cell_type": "code",
   "execution_count": 1,
   "id": "e3361e4e",
   "metadata": {},
   "outputs": [
    {
     "name": "stdout",
     "output_type": "stream",
     "text": [
      "Python is great!\n"
     ]
    }
   ],
   "source": [
    "# lets let the world know that Python is great\n",
    "print(\"Python is great!\")"
   ]
  },
  {
   "cell_type": "code",
   "execution_count": 2,
   "id": "dbf24c1c",
   "metadata": {},
   "outputs": [],
   "source": [
    "# best all-time bands\n",
    "bands = [\"Extreme\", \"Journey\", \"The Civil Wars\"]"
   ]
  },
  {
   "cell_type": "code",
   "execution_count": null,
   "id": "c95415be",
   "metadata": {},
   "outputs": [],
   "source": []
  }
 ],
 "metadata": {
  "kernelspec": {
   "display_name": "Python 3 (ipykernel)",
   "language": "python",
   "name": "python3"
  },
  "language_info": {
   "codemirror_mode": {
    "name": "ipython",
    "version": 3
   },
   "file_extension": ".py",
   "mimetype": "text/x-python",
   "name": "python",
   "nbconvert_exporter": "python",
   "pygments_lexer": "ipython3",
   "version": "3.11.5"
  }
 },
 "nbformat": 4,
 "nbformat_minor": 5
}
