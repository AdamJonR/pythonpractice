{
 "cells": [
  {
   "cell_type": "markdown",
   "id": "73252cbe",
   "metadata": {},
   "source": [
    "# Chapter 3 Code Set Responses\n",
    "\n",
    "Here are my Chapter 3 Code Set Responses. "
   ]
  },
  {
   "cell_type": "code",
   "execution_count": 1,
   "id": "7b5a910f",
   "metadata": {},
   "outputs": [
    {
     "name": "stdout",
     "output_type": "stream",
     "text": [
      "Is anyone in your party a vegetarian?\n",
      "no\n"
     ]
    }
   ],
   "source": [
    "# prompt for information related to vegetarian restrictions\n",
    "print(\"Is anyone in your party a vegetarian?\")\n",
    "# store a lowercase, stripped version of the response\n",
    "vegetarian = input().lower().strip()"
   ]
  },
  {
   "cell_type": "code",
   "execution_count": 2,
   "id": "ffb7b411",
   "metadata": {},
   "outputs": [
    {
     "name": "stdout",
     "output_type": "stream",
     "text": [
      "Is anyone in your party a vegan?\n",
      "no\n"
     ]
    }
   ],
   "source": [
    "print(\"Is anyone in your party a vegan?\")\n",
    "vegan = input().lower().strip()"
   ]
  },
  {
   "cell_type": "code",
   "execution_count": 3,
   "id": "58d17540",
   "metadata": {},
   "outputs": [
    {
     "name": "stdout",
     "output_type": "stream",
     "text": [
      "Is anyone in your party gluten-free?\n",
      "no\n"
     ]
    }
   ],
   "source": [
    "print(\"Is anyone in your party gluten-free?\")\n",
    "gluten_free = input().lower().strip()"
   ]
  },
  {
   "cell_type": "code",
   "execution_count": 4,
   "id": "21c699bf",
   "metadata": {},
   "outputs": [
    {
     "name": "stdout",
     "output_type": "stream",
     "text": [
      "Here are your restaurant choices:\n"
     ]
    }
   ],
   "source": []
  },
  {
   "cell_type": "code",
   "execution_count": 6,
   "id": "cad808d5",
   "metadata": {},
   "outputs": [
    {
     "name": "stdout",
     "output_type": "stream",
     "text": [
      "Here are your restaurant choices:\n",
      "     Joe’s Gourmet Burgers\n",
      "     Main Street Pizza Company\n",
      "     Mama’s Fine Italian\n",
      "     Corner Café\n",
      "     The Chef’s Kitchen\n"
     ]
    }
   ],
   "source": [
    "# provide the summary of possible restaurant choices to the user\n",
    "print(\"Here are your restaurant choices:\")\n",
    "\n",
    "# initialize indent variable\n",
    "indent = \"    \"\n",
    "\n",
    "# check if Joe's should be included in the options\n",
    "if vegetarian != \"yes\" and vegan != \"yes\" and gluten_free != \"yes\":\n",
    "    print(indent, \"Joe’s Gourmet Burgers\")\n",
    "    \n",
    "# check if Main Street should be included in the options\n",
    "if vegan == \"no\":\n",
    "    print(indent, \"Main Street Pizza Company\")\n",
    "    \n",
    "if vegan == \"no\" and gluten_free == \"no\":\n",
    "    print(indent, \"Mama’s Fine Italian\")\n",
    "    \n",
    "print(indent, \"Corner Café\")\n",
    "print(indent, \"The Chef’s Kitchen\")"
   ]
  },
  {
   "cell_type": "code",
   "execution_count": null,
   "id": "352a0fa3",
   "metadata": {},
   "outputs": [],
   "source": []
  },
  {
   "cell_type": "code",
   "execution_count": null,
   "id": "dfd3710d",
   "metadata": {},
   "outputs": [],
   "source": []
  }
 ],
 "metadata": {
  "kernelspec": {
   "display_name": "Python 3 (ipykernel)",
   "language": "python",
   "name": "python3"
  },
  "language_info": {
   "codemirror_mode": {
    "name": "ipython",
    "version": 3
   },
   "file_extension": ".py",
   "mimetype": "text/x-python",
   "name": "python",
   "nbconvert_exporter": "python",
   "pygments_lexer": "ipython3",
   "version": "3.9.12"
  }
 },
 "nbformat": 4,
 "nbformat_minor": 5
}
