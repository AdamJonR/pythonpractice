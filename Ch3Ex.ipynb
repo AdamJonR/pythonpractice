{
 "cells": [
  {
   "cell_type": "code",
   "execution_count": 1,
   "id": "10e23b0c",
   "metadata": {},
   "outputs": [
    {
     "name": "stdout",
     "output_type": "stream",
     "text": [
      "Is anyone in your party a vegetarian?\n",
      "yes\n"
     ]
    }
   ],
   "source": [
    "print(\"Is anyone in your party a vegetarian?\")\n",
    "vegetarian = input().lower().strip()"
   ]
  },
  {
   "cell_type": "code",
   "execution_count": 2,
   "id": "120b1e42",
   "metadata": {},
   "outputs": [
    {
     "name": "stdout",
     "output_type": "stream",
     "text": [
      "Is anyone in your party a vegan?\n",
      "yes\n"
     ]
    }
   ],
   "source": [
    "print(\"Is anyone in your party a vegan?\")\n",
    "vegan = input().lower().strip()"
   ]
  },
  {
   "cell_type": "code",
   "execution_count": 3,
   "id": "7026da72",
   "metadata": {},
   "outputs": [
    {
     "name": "stdout",
     "output_type": "stream",
     "text": [
      "Is anyone in your party gluten-free?\n",
      "yes\n"
     ]
    }
   ],
   "source": [
    "print(\"Is anyone in your party gluten-free?\")\n",
    "gluten_free = input().lower().strip()"
   ]
  },
  {
   "cell_type": "code",
   "execution_count": 4,
   "id": "995eb63a",
   "metadata": {},
   "outputs": [
    {
     "name": "stdout",
     "output_type": "stream",
     "text": [
      "Here are your restaurant choices:\n"
     ]
    }
   ],
   "source": [
    "print(\"Here are your restaurant choices:\")"
   ]
  },
  {
   "cell_type": "code",
   "execution_count": 5,
   "id": "168998c3",
   "metadata": {},
   "outputs": [
    {
     "name": "stdout",
     "output_type": "stream",
     "text": [
      "Corner Café\n"
     ]
    }
   ],
   "source": [
    "if vegetarian != \"yes\" and vegan != \"yes\" and gluten_free != \"yes\":\n",
    "    print(\"Joe’s Gourmet Burgers\")\n",
    "print(\"Corner Café\")\n",
    "print(\"The Chef’s Kitchen\")"
   ]
  },
  {
   "cell_type": "code",
   "execution_count": 6,
   "id": "24532633",
   "metadata": {},
   "outputs": [
    {
     "name": "stdout",
     "output_type": "stream",
     "text": [
      "The Chef’s Kitchen\n"
     ]
    }
   ],
   "source": []
  },
  {
   "cell_type": "code",
   "execution_count": null,
   "id": "9c6c3046",
   "metadata": {},
   "outputs": [],
   "source": []
  }
 ],
 "metadata": {
  "kernelspec": {
   "display_name": "Python 3 (ipykernel)",
   "language": "python",
   "name": "python3"
  },
  "language_info": {
   "codemirror_mode": {
    "name": "ipython",
    "version": 3
   },
   "file_extension": ".py",
   "mimetype": "text/x-python",
   "name": "python",
   "nbconvert_exporter": "python",
   "pygments_lexer": "ipython3",
   "version": "3.9.12"
  }
 },
 "nbformat": 4,
 "nbformat_minor": 5
}
