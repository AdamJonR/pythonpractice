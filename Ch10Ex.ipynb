{
 "cells": [
  {
   "cell_type": "code",
   "execution_count": 10,
   "id": "29e3acd8",
   "metadata": {},
   "outputs": [
    {
     "name": "stdout",
     "output_type": "stream",
     "text": [
      "Current speed: 5\n",
      "Current speed: 10\n",
      "Current speed: 15\n",
      "Current speed: 20\n",
      "Current speed: 25\n",
      "Speed after accelerating: 25\n",
      "Current speed: 20\n",
      "Current speed: 15\n",
      "Current speed: 10\n",
      "Current speed: 5\n",
      "Current speed: 0\n",
      "Final speed: 0\n"
     ]
    }
   ],
   "source": [
    "import car\n",
    "\n",
    "def main():\n",
    "    # Create a Car object\n",
    "    my_car = car.Car(2023, \"Example Make\")\n",
    "\n",
    "    # Accelerate the car five times\n",
    "    accelerate(my_car, 5)\n",
    "\n",
    "    # Get the current speed\n",
    "    print(\"Speed after accelerating:\", my_car.get_speed()) \n",
    "\n",
    "    # Brake the car five times\n",
    "    brake(my_car, 5)\n",
    "\n",
    "    # Get the current speed again\n",
    "    print(\"Final speed:\", my_car.get_speed()) \n",
    "    \n",
    "def brake(car, count):\n",
    "    for _ in range(count):\n",
    "        car.brake()\n",
    "        print(f\"Current speed: {car.get_speed()}\")\n",
    "\n",
    "def accelerate(car, count):\n",
    "    for _ in range(count):\n",
    "        car.accelerate()\n",
    "        print(f\"Current speed: {car.get_speed()}\")\n",
    "\n",
    "main()"
   ]
  },
  {
   "cell_type": "code",
   "execution_count": 13,
   "id": "face9cc4",
   "metadata": {},
   "outputs": [],
   "source": [
    "class Test:\n",
    "    def __init__(self):\n",
    "        pass\n",
    "    \n",
    "    def get_value():\n",
    "        return 1"
   ]
  },
  {
   "cell_type": "code",
   "execution_count": 14,
   "id": "3ae70fff",
   "metadata": {},
   "outputs": [],
   "source": [
    "test = Test()"
   ]
  },
  {
   "cell_type": "code",
   "execution_count": 15,
   "id": "4839e89b",
   "metadata": {},
   "outputs": [
    {
     "ename": "TypeError",
     "evalue": "get_value() takes 0 positional arguments but 1 was given",
     "output_type": "error",
     "traceback": [
      "\u001b[1;31m---------------------------------------------------------------------------\u001b[0m",
      "\u001b[1;31mTypeError\u001b[0m                                 Traceback (most recent call last)",
      "Input \u001b[1;32mIn [15]\u001b[0m, in \u001b[0;36m<cell line: 1>\u001b[1;34m()\u001b[0m\n\u001b[1;32m----> 1\u001b[0m \u001b[43mtest\u001b[49m\u001b[38;5;241;43m.\u001b[39;49m\u001b[43mget_value\u001b[49m\u001b[43m(\u001b[49m\u001b[43m)\u001b[49m\n",
      "\u001b[1;31mTypeError\u001b[0m: get_value() takes 0 positional arguments but 1 was given"
     ]
    }
   ],
   "source": [
    "test.get_value()"
   ]
  },
  {
   "cell_type": "code",
   "execution_count": null,
   "id": "1d071b63",
   "metadata": {},
   "outputs": [],
   "source": []
  },
  {
   "cell_type": "code",
   "execution_count": null,
   "id": "25eb50d5",
   "metadata": {},
   "outputs": [],
   "source": []
  },
  {
   "cell_type": "code",
   "execution_count": null,
   "id": "34545b9a",
   "metadata": {},
   "outputs": [],
   "source": []
  },
  {
   "cell_type": "code",
   "execution_count": null,
   "id": "59891369",
   "metadata": {},
   "outputs": [],
   "source": []
  },
  {
   "cell_type": "code",
   "execution_count": null,
   "id": "f0055ef8",
   "metadata": {},
   "outputs": [],
   "source": []
  },
  {
   "cell_type": "code",
   "execution_count": null,
   "id": "7beb03c4",
   "metadata": {},
   "outputs": [],
   "source": []
  }
 ],
 "metadata": {
  "kernelspec": {
   "display_name": "Python 3 (ipykernel)",
   "language": "python",
   "name": "python3"
  },
  "language_info": {
   "codemirror_mode": {
    "name": "ipython",
    "version": 3
   },
   "file_extension": ".py",
   "mimetype": "text/x-python",
   "name": "python",
   "nbconvert_exporter": "python",
   "pygments_lexer": "ipython3",
   "version": "3.9.12"
  }
 },
 "nbformat": 4,
 "nbformat_minor": 5
}
