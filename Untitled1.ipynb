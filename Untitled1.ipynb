{
 "cells": [
  {
   "cell_type": "code",
   "execution_count": 7,
   "id": "d0ffcee0",
   "metadata": {},
   "outputs": [
    {
     "ename": "AttributeError",
     "evalue": "module 'car' has no attribute 'Car'",
     "output_type": "error",
     "traceback": [
      "\u001b[1;31m---------------------------------------------------------------------------\u001b[0m",
      "\u001b[1;31mAttributeError\u001b[0m                            Traceback (most recent call last)",
      "Input \u001b[1;32mIn [7]\u001b[0m, in \u001b[0;36m<cell line: 19>\u001b[1;34m()\u001b[0m\n\u001b[0;32m     17\u001b[0m         \u001b[38;5;28mprint\u001b[39m(\u001b[38;5;124m\"\u001b[39m\u001b[38;5;124mCurrent speed after braking:\u001b[39m\u001b[38;5;124m\"\u001b[39m, my_car\u001b[38;5;241m.\u001b[39mget_speed())\n\u001b[0;32m     19\u001b[0m \u001b[38;5;28;01mif\u001b[39;00m \u001b[38;5;18m__name__\u001b[39m \u001b[38;5;241m==\u001b[39m \u001b[38;5;124m\"\u001b[39m\u001b[38;5;124m__main__\u001b[39m\u001b[38;5;124m\"\u001b[39m:\n\u001b[1;32m---> 20\u001b[0m     \u001b[43mmain\u001b[49m\u001b[43m(\u001b[49m\u001b[43m)\u001b[49m\n",
      "Input \u001b[1;32mIn [7]\u001b[0m, in \u001b[0;36mmain\u001b[1;34m()\u001b[0m\n\u001b[0;32m      3\u001b[0m \u001b[38;5;28;01mdef\u001b[39;00m \u001b[38;5;21mmain\u001b[39m():\n\u001b[0;32m      4\u001b[0m     \u001b[38;5;66;03m# Create a Car object\u001b[39;00m\n\u001b[1;32m----> 5\u001b[0m     my_car \u001b[38;5;241m=\u001b[39m \u001b[43mcar\u001b[49m\u001b[38;5;241;43m.\u001b[39;49m\u001b[43mCar\u001b[49m(\u001b[38;5;241m2023\u001b[39m, \u001b[38;5;124m\"\u001b[39m\u001b[38;5;124mExampleCar\u001b[39m\u001b[38;5;124m\"\u001b[39m)\n\u001b[0;32m      7\u001b[0m     \u001b[38;5;28mprint\u001b[39m(\u001b[38;5;124m\"\u001b[39m\u001b[38;5;124mInitial speed:\u001b[39m\u001b[38;5;124m\"\u001b[39m, my_car\u001b[38;5;241m.\u001b[39mget_speed())\n\u001b[0;32m      9\u001b[0m     \u001b[38;5;66;03m# Call the accelerate method five times\u001b[39;00m\n",
      "\u001b[1;31mAttributeError\u001b[0m: module 'car' has no attribute 'Car'"
     ]
    }
   ],
   "source": [
    "import car\n",
    "\n",
    "def main():\n",
    "    # Create a Car object\n",
    "    my_car = car.Car(2023, \"ExampleCar\")\n",
    "\n",
    "    print(\"Initial speed:\", my_car.get_speed())\n",
    "\n",
    "    # Call the accelerate method five times\n",
    "    for _ in range(5):\n",
    "        my_car.accelerate()\n",
    "        print(\"Current speed after accelerating:\", my_car.get_speed())\n",
    "\n",
    "    # Call the brake method five times\n",
    "    for _ in range(5):\n",
    "        my_car.brake()\n",
    "        print(\"Current speed after braking:\", my_car.get_speed())\n",
    "\n",
    "if __name__ == \"__main__\":\n",
    "    main()\n"
   ]
  },
  {
   "cell_type": "code",
   "execution_count": null,
   "id": "f20b4efc",
   "metadata": {},
   "outputs": [],
   "source": []
  }
 ],
 "metadata": {
  "kernelspec": {
   "display_name": "Python 3 (ipykernel)",
   "language": "python",
   "name": "python3"
  },
  "language_info": {
   "codemirror_mode": {
    "name": "ipython",
    "version": 3
   },
   "file_extension": ".py",
   "mimetype": "text/x-python",
   "name": "python",
   "nbconvert_exporter": "python",
   "pygments_lexer": "ipython3",
   "version": "3.9.12"
  }
 },
 "nbformat": 4,
 "nbformat_minor": 5
}
