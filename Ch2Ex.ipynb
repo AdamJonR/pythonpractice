{
 "cells": [
  {
   "cell_type": "markdown",
   "id": "342d6a46",
   "metadata": {},
   "source": [
    "# Chapter 2 Exercises\n",
    "\n"
   ]
  },
  {
   "cell_type": "markdown",
   "id": "abee034d",
   "metadata": {},
   "source": [
    "## Algorithm Workbench - Number 12\n",
    "\n",
    "We're presented with a print function call and asked to predict what the output will be."
   ]
  },
  {
   "cell_type": "code",
   "execution_count": null,
   "id": "e0f73d15",
   "metadata": {},
   "outputs": [],
   "source": [
    "print('George', 'John', 'Paul', 'Ringo', sep='@')"
   ]
  },
  {
   "cell_type": "markdown",
   "id": "272f67e1",
   "metadata": {},
   "source": [
    "\"George@John@Paul@Ringo\""
   ]
  }
 ],
 "metadata": {
  "kernelspec": {
   "display_name": "Python 3 (ipykernel)",
   "language": "python",
   "name": "python3"
  },
  "language_info": {
   "codemirror_mode": {
    "name": "ipython",
    "version": 3
   },
   "file_extension": ".py",
   "mimetype": "text/x-python",
   "name": "python",
   "nbconvert_exporter": "python",
   "pygments_lexer": "ipython3",
   "version": "3.9.12"
  }
 },
 "nbformat": 4,
 "nbformat_minor": 5
}
