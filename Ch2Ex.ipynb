{
 "cells": [
  {
   "cell_type": "markdown",
   "id": "b5b19363",
   "metadata": {},
   "source": [
    "# Chapter 2 Exercises\n",
    "\n"
   ]
  },
  {
   "cell_type": "markdown",
   "id": "993eab1a",
   "metadata": {},
   "source": [
    "## Algorithm Workbench - Number 12\n",
    "\n",
    "We're presented with a print function call and asked to predict what the output will be.\n",
    "\n",
    "You will see that I made a prediction in one of the cells below. However, copying and pasting from our eBook textbook led to a syntax error, and I had to clean up the function call.\n",
    "\n"
   ]
  },
  {
   "cell_type": "code",
   "execution_count": 1,
   "id": "7a185108",
   "metadata": {},
   "outputs": [
    {
     "name": "stdout",
     "output_type": "stream",
     "text": [
      "George@John@Paul@Ringo\n"
     ]
    }
   ],
   "source": [
    "print('George', 'John', 'Paul', 'Ringo', sep='@')"
   ]
  },
  {
   "cell_type": "markdown",
   "id": "6f6fec37",
   "metadata": {},
   "source": [
    "I believe that the output will be similar to the following string:\n",
    "\n",
    "\"George@John@Paul@Ringo\"\n",
    "\n",
    "The print function expects a varying number of arguments, and it allows us to set the sep. The sep. defaults to a single space. However, in this call, we see that the separator has been set to the '@'."
   ]
  },
  {
   "cell_type": "code",
   "execution_count": null,
   "id": "5962e4b6",
   "metadata": {},
   "outputs": [
    {
     "name": "stdout",
     "output_type": "stream",
     "text": [
      "Please enter the length of the vinyard in feet:\n"
     ]
    }
   ],
   "source": [
    "# get the length of the row in feet\n",
    "# lets tell the user what we expect\n",
    "print(\"Please enter the length of the vinyard in feet:\")\n",
    "# wait for input from the user for the value of length\n",
    "length = input()"
   ]
  },
  {
   "cell_type": "code",
   "execution_count": null,
   "id": "f60ec455",
   "metadata": {},
   "outputs": [],
   "source": []
  }
 ],
 "metadata": {
  "kernelspec": {
   "display_name": "Python 3 (ipykernel)",
   "language": "python",
   "name": "python3"
  },
  "language_info": {
   "codemirror_mode": {
    "name": "ipython",
    "version": 3
   },
   "file_extension": ".py",
   "mimetype": "text/x-python",
   "name": "python",
   "nbconvert_exporter": "python",
   "pygments_lexer": "ipython3",
   "version": "3.9.12"
  }
 },
 "nbformat": 4,
 "nbformat_minor": 5
}
