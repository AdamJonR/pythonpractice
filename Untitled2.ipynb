{
 "cells": [
  {
   "cell_type": "code",
   "execution_count": 1,
   "id": "02537df3",
   "metadata": {},
   "outputs": [],
   "source": [
    "greeting = \"  Hello, little people of Earth!      \""
   ]
  },
  {
   "cell_type": "code",
   "execution_count": 2,
   "id": "032c5e40",
   "metadata": {},
   "outputs": [
    {
     "name": "stdout",
     "output_type": "stream",
     "text": [
      "Length of the string: 38\n",
      "Is the length divisible by 3? False\n",
      "New string with no spaces at the beginning or end: Hello, little people of Earth!\n",
      "First five characters of the string: Hello\n",
      "Appended string: Helloooooooooooooooooooooooooooooooooooooooooooooooooooooooooooooooooooooooooo\n"
     ]
    }
   ],
   "source": [
    "# Determine the length of the string\n",
    "greeting = \"  Hello, little people of Earth!      \"\n",
    "length_of_string = len(greeting)\n",
    "print(\"Length of the string:\", length_of_string)\n",
    "\n",
    "# Determine if the length is evenly divisible by 3\n",
    "is_divisible_by_3 = length_of_string % 3 == 0\n",
    "print(\"Is the length divisible by 3?\", is_divisible_by_3)\n",
    "\n",
    "# Create a new version of the string with no spaces at the beginning or end\n",
    "new_greeting = greeting.strip()\n",
    "print(\"New string with no spaces at the beginning or end:\", new_greeting)\n",
    "\n",
    "# Place the first 5 characters of the new string in a new variable\n",
    "first_five_characters = new_greeting[:5]\n",
    "print(\"First five characters of the string:\", first_five_characters)\n",
    "\n",
    "# Append 73 'o' characters to the new string and print out the result\n",
    "appended_string = first_five_characters + 'o' * 73\n",
    "print(\"Appended string:\", appended_string)"
   ]
  },
  {
   "cell_type": "code",
   "execution_count": 3,
   "id": "12ff7a85",
   "metadata": {},
   "outputs": [
    {
     "name": "stdout",
     "output_type": "stream",
     "text": [
      "Number: 41, Result: 41\n",
      "Number: 42, Result: kazow\n",
      "Number: 43, Result: 43\n",
      "Number: 44, Result: 44\n",
      "Number: 45, Result: wow\n",
      "Number: 46, Result: 46\n",
      "Number: 47, Result: 47\n",
      "Number: 48, Result: 48\n",
      "Number: 49, Result: kazow\n",
      "Number: 50, Result: wow\n",
      "Number: 51, Result: 51\n",
      "Number: 52, Result: 52\n",
      "Number: 53, Result: 53\n",
      "Number: 54, Result: 54\n",
      "Number: 55, Result: wow\n",
      "Number: 56, Result: kazow\n",
      "Number: 57, Result: 57\n",
      "Number: 58, Result: 58\n",
      "Number: 59, Result: 59\n",
      "Number: 60, Result: wow\n",
      "Number: 61, Result: 61\n",
      "Number: 62, Result: 62\n",
      "Number: 63, Result: kazow\n",
      "Number: 64, Result: 64\n",
      "Number: 65, Result: wow\n",
      "Number: 66, Result: 66\n",
      "Number: 67, Result: 67\n",
      "Number: 68, Result: 68\n",
      "Number: 69, Result: 69\n",
      "Number: 70, Result: wowkazow\n",
      "Number: 71, Result: 71\n",
      "Number: 72, Result: 72\n",
      "Number: 73, Result: 73\n",
      "Number: 74, Result: 74\n",
      "Number: 75, Result: wow\n",
      "Number: 76, Result: 76\n",
      "Number: 77, Result: kazow\n",
      "Number: 78, Result: 78\n",
      "Number: 79, Result: 79\n",
      "Number: 80, Result: wow\n",
      "Number: 81, Result: 81\n",
      "Number: 82, Result: 82\n",
      "Number: 83, Result: 83\n",
      "Number: 84, Result: kazow\n",
      "Number: 85, Result: wow\n",
      "Number: 86, Result: 86\n",
      "Number: 87, Result: 87\n",
      "Number: 88, Result: 88\n",
      "Number: 89, Result: 89\n"
     ]
    }
   ],
   "source": [
    "def wow_kazow(number):\n",
    "# Check to see if the number is evenly divisible by 5 and 7\n",
    "   if number % 5 == 0 and number % 7 == 0:\n",
    "       return \"wowkazow\"\n",
    "# Check to see if the number is evenly divisible by 5\n",
    "   elif number % 5 == 0:\n",
    "       return \"wow\"\n",
    "# Check to seeif the number is evenly divisible by 7\n",
    "   elif number % 7 == 0:\n",
    "       return \"kazow\"\n",
    "# If not divisible by either 5 or 7, return the original number\n",
    "   else:\n",
    "       return number\n",
    "\n",
    "def main():\n",
    "# Loop through numbers 41 through 89 (inclusive)\n",
    "   for number in range(41, 90):\n",
    "       result = wow_kazow(number)\n",
    "       print(f\"Number: {number}, Result: {result}\")\n",
    "\n",
    "# Call the main function\n",
    "main()"
   ]
  },
  {
   "cell_type": "code",
   "execution_count": 4,
   "id": "8c1da132",
   "metadata": {},
   "outputs": [
    {
     "ename": "TypeError",
     "evalue": "__init__() missing 1 required positional argument: 'reading_prescription'",
     "output_type": "error",
     "traceback": [
      "\u001b[1;31m---------------------------------------------------------------------------\u001b[0m",
      "\u001b[1;31mTypeError\u001b[0m                                 Traceback (most recent call last)",
      "Input \u001b[1;32mIn [4]\u001b[0m, in \u001b[0;36m<cell line: 30>\u001b[1;34m()\u001b[0m\n\u001b[0;32m     27\u001b[0m  \u001b[38;5;28;01mdef\u001b[39;00m \u001b[38;5;21m__str__\u001b[39m(\u001b[38;5;28mself\u001b[39m):\n\u001b[0;32m     28\u001b[0m    \u001b[38;5;28;01mreturn\u001b[39;00m \u001b[38;5;124mf\u001b[39m\u001b[38;5;124m\"\u001b[39m\u001b[38;5;124mColor: \u001b[39m\u001b[38;5;132;01m{\u001b[39;00m\u001b[38;5;28mself\u001b[39m\u001b[38;5;241m.\u001b[39mcolor\u001b[38;5;132;01m}\u001b[39;00m\u001b[38;5;124m, Price: \u001b[39m\u001b[38;5;132;01m{\u001b[39;00m\u001b[38;5;28mself\u001b[39m\u001b[38;5;241m.\u001b[39mprice\u001b[38;5;132;01m}\u001b[39;00m\u001b[38;5;124m, Prescription: \u001b[39m\u001b[38;5;132;01m{\u001b[39;00m\u001b[38;5;28mself\u001b[39m\u001b[38;5;241m.\u001b[39mprescription\u001b[38;5;132;01m}\u001b[39;00m\u001b[38;5;124m\"\u001b[39m\n\u001b[1;32m---> 30\u001b[0m x \u001b[38;5;241m=\u001b[39m \u001b[43mBifocals\u001b[49m\u001b[43m(\u001b[49m\u001b[38;5;124;43m\"\u001b[39;49m\u001b[38;5;124;43mblue\u001b[39;49m\u001b[38;5;124;43m\"\u001b[39;49m\u001b[43m,\u001b[49m\u001b[43m \u001b[49m\u001b[38;5;241;43m10\u001b[39;49m\u001b[43m,\u001b[49m\u001b[43m \u001b[49m\u001b[38;5;241;43m-\u001b[39;49m\u001b[38;5;241;43m10\u001b[39;49m\u001b[43m)\u001b[49m\n\u001b[0;32m     31\u001b[0m \u001b[38;5;28mprint\u001b[39m(x)\n",
      "\u001b[1;31mTypeError\u001b[0m: __init__() missing 1 required positional argument: 'reading_prescription'"
     ]
    }
   ],
   "source": [
    "class Bifocals:\n",
    " def __init__(self, color, price, prescription, reading_prescription):\n",
    "   self.color = color\n",
    "   self.price = price\n",
    "   self.prescription = prescription\n",
    "   self.reading_perscription = reading_prescription\n",
    " def set_reading_prescription(self, reading_prescription):\n",
    "   self.reading_prescription = reading_prescription\n",
    " def get_reading_prescription(self):\n",
    "   return self.reading_prescription\n",
    " def __str__(self):\n",
    "   return f\"Color: {self.color}, Price: {self.price}, Prescription: {self.prescription}, Reading Prescription:{self.reading_prescription}\"\n",
    "\n",
    "class Glasses(Bifocals):\n",
    " def __init__(self, color, price, prescription):\n",
    "   self.color = color\n",
    "   self.price = price\n",
    "   self.prescription = prescription\n",
    " def set_price(self, price):\n",
    "   self.price = price\n",
    " def set_prescription(self, prescription):\n",
    "   self.prescription = prescription\n",
    " def get_price(self):\n",
    "   return self.price\n",
    " def get_prescription(self):\n",
    "   return self.prescription\n",
    " def __str__(self):\n",
    "   return f\"Color: {self.color}, Price: {self.price}, Prescription: {self.prescription}\"\n",
    "\n",
    "x = Bifocals(\"blue\", 10, -10)\n",
    "print(x)"
   ]
  },
  {
   "cell_type": "code",
   "execution_count": null,
   "id": "6a374629",
   "metadata": {},
   "outputs": [],
   "source": []
  }
 ],
 "metadata": {
  "kernelspec": {
   "display_name": "Python 3 (ipykernel)",
   "language": "python",
   "name": "python3"
  },
  "language_info": {
   "codemirror_mode": {
    "name": "ipython",
    "version": 3
   },
   "file_extension": ".py",
   "mimetype": "text/x-python",
   "name": "python",
   "nbconvert_exporter": "python",
   "pygments_lexer": "ipython3",
   "version": "3.9.12"
  }
 },
 "nbformat": 4,
 "nbformat_minor": 5
}
