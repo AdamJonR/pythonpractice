{
 "cells": [
  {
   "cell_type": "code",
   "execution_count": null,
   "id": "a291f248",
   "metadata": {},
   "outputs": [],
   "source": [
    "def calc_sales_commission():\n",
    "    # create variable to control for loop\n",
    "    keep_going = 'y'\n",
    "\n",
    "    while keep_going == 'y':\n",
    "        # calculate a series of commissions\n",
    "        sales = float(input('Enter the amount of sales: '))\n",
    "        comm_rate = float(input('Enter the commission rate: '))\n",
    "\n",
    "        # calculate the commission\n",
    "        commission = sales * comm_rate\n",
    "\n",
    "        # display the commission\n",
    "        print('The commission is $',  \n",
    "                format(commission, ',.2f'),\n",
    "                sep='')\n",
    "\n",
    "        # see if the user wants to do another one\n",
    "        keep_going = input('Do you want to calculate another ' +\n",
    "                              'commission (Enter y for yes): ')"
   ]
  },
  {
   "cell_type": "code",
   "execution_count": 5,
   "id": "2047ef23",
   "metadata": {},
   "outputs": [],
   "source": [
    "def calc_sales_commission():\n",
    "    # create variable to control for loop\n",
    "    keep_going = 'y'\n",
    "\n",
    "    while keep_going == 'y':\n",
    "        # calculate a series of commissions\n",
    "        sales, comm_rate = get_sales_and_comm_rate()\n",
    "\n",
    "        # calculate the commission\n",
    "        commission = sales * comm_rate\n",
    "\n",
    "        # display the commission\n",
    "        print('The commission is $',  \n",
    "                format(commission, ',.2f'),\n",
    "                sep='')\n",
    "\n",
    "        # see if the user wants to do another one\n",
    "        keep_going = input('Do you want to calculate another ' +\n",
    "                              'commission (Enter y for yes): ')\n",
    "        \n",
    "def get_sales_and_comm_rate():\n",
    "        # calculate a series of commissions\n",
    "        sales = float(input('Enter the amount of sales: '))\n",
    "        comm_rate = float(input('Enter the commission rate: '))\n",
    "        return sales, comm_rate"
   ]
  },
  {
   "cell_type": "code",
   "execution_count": 6,
   "id": "a6fcce5e",
   "metadata": {},
   "outputs": [
    {
     "name": "stdout",
     "output_type": "stream",
     "text": [
      "Enter the amount of sales: 5000\n",
      "Enter the commission rate: .06\n",
      "The commission is $300.00\n",
      "Do you want to calculate another commission (Enter y for yes): n\n"
     ]
    }
   ],
   "source": [
    "calc_sales_commission()"
   ]
  },
  {
   "cell_type": "code",
   "execution_count": null,
   "id": "3160d086",
   "metadata": {},
   "outputs": [],
   "source": []
  }
 ],
 "metadata": {
  "kernelspec": {
   "display_name": "Python 3 (ipykernel)",
   "language": "python",
   "name": "python3"
  },
  "language_info": {
   "codemirror_mode": {
    "name": "ipython",
    "version": 3
   },
   "file_extension": ".py",
   "mimetype": "text/x-python",
   "name": "python",
   "nbconvert_exporter": "python",
   "pygments_lexer": "ipython3",
   "version": "3.9.12"
  }
 },
 "nbformat": 4,
 "nbformat_minor": 5
}
