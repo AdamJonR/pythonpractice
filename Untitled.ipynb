{
 "cells": [
  {
   "cell_type": "markdown",
   "id": "7803fb56",
   "metadata": {},
   "source": [
    "# Code Set 3 (Chapter 3 Questions)\n",
    "\n"
   ]
  },
  {
   "cell_type": "markdown",
   "id": "04f6cc08",
   "metadata": {},
   "source": [
    "## Question 15 (February Days)"
   ]
  },
  {
   "cell_type": "code",
   "execution_count": 1,
   "id": "2626843c",
   "metadata": {},
   "outputs": [
    {
     "name": "stdout",
     "output_type": "stream",
     "text": [
      "Enter a year:\n",
      "2008\n"
     ]
    }
   ],
   "source": [
    "# let's get the year\n",
    "print(\"Enter a year:\")\n",
    "year = input()"
   ]
  },
  {
   "cell_type": "code",
   "execution_count": null,
   "id": "c173bb84",
   "metadata": {},
   "outputs": [],
   "source": []
  }
 ],
 "metadata": {
  "kernelspec": {
   "display_name": "Python 3 (ipykernel)",
   "language": "python",
   "name": "python3"
  },
  "language_info": {
   "codemirror_mode": {
    "name": "ipython",
    "version": 3
   },
   "file_extension": ".py",
   "mimetype": "text/x-python",
   "name": "python",
   "nbconvert_exporter": "python",
   "pygments_lexer": "ipython3",
   "version": "3.9.12"
  }
 },
 "nbformat": 4,
 "nbformat_minor": 5
}
