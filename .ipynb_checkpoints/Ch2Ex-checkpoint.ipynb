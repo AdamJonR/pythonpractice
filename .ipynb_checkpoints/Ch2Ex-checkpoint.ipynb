{
 "cells": [
  {
   "cell_type": "markdown",
   "id": "477a1e99",
   "metadata": {},
   "source": [
    "# Chapter 2 Exercises\n",
    "\n"
   ]
  },
  {
   "cell_type": "markdown",
   "id": "4f7072c8",
   "metadata": {},
   "source": [
    "## Algorithm Workbench - Number 12\n",
    "\n",
    "We're presented with a print function call and asked to predict what the output will be."
   ]
  },
  {
   "cell_type": "code",
   "execution_count": null,
   "id": "640be382",
   "metadata": {},
   "outputs": [],
   "source": [
    "print('George', 'John', 'Paul', 'Ringo', sep='@')"
   ]
  }
 ],
 "metadata": {
  "kernelspec": {
   "display_name": "Python 3 (ipykernel)",
   "language": "python",
   "name": "python3"
  },
  "language_info": {
   "codemirror_mode": {
    "name": "ipython",
    "version": 3
   },
   "file_extension": ".py",
   "mimetype": "text/x-python",
   "name": "python",
   "nbconvert_exporter": "python",
   "pygments_lexer": "ipython3",
   "version": "3.9.12"
  }
 },
 "nbformat": 4,
 "nbformat_minor": 5
}
