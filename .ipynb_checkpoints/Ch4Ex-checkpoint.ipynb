{
 "cells": [
  {
   "cell_type": "code",
   "execution_count": null,
   "metadata": {},
   "outputs": [],
   "source": []
  },
  {
   "cell_type": "markdown",
   "metadata": {},
   "source": [
    "# (12) Calculating the Factorial of a Number\n",
    "\n",
    "Paragraph description"
   ]
  },
  {
   "cell_type": "code",
   "execution_count": 1,
   "metadata": {},
   "outputs": [
    {
     "name": "stdout",
     "output_type": "stream",
     "text": [
      "Enter a number greater than zero: 6\n"
     ]
    }
   ],
   "source": [
    "# get and store a non-negative number\n",
    "num = int(input(\"Enter a number greater than zero: \"))"
   ]
  },
  {
   "cell_type": "code",
   "execution_count": 2,
   "metadata": {},
   "outputs": [],
   "source": [
    "# use a while loop to ensure the number is valid\n",
    "while num < 1:\n",
    "    # remind users of the rules\n",
    "    if num < 0:\n",
    "        # remind use of the rules\n",
    "        print(\"Hey, I said non-negative!\")\n",
    "    else:\n",
    "        # remind use of the rules\n",
    "        print(\"Hey, I said non-zero!\")\n",
    "    # get and store a non-negative number\n",
    "    num = int(input(\"Enter a non-negative number: \"))"
   ]
  },
  {
   "cell_type": "code",
   "execution_count": 3,
   "metadata": {},
   "outputs": [
    {
     "name": "stdout",
     "output_type": "stream",
     "text": [
      "n = 1 and factorial = 1\n",
      "n = 2 and factorial = 1\n",
      "n = 3 and factorial = 2\n",
      "n = 4 and factorial = 6\n",
      "n = 5 and factorial = 24\n",
      "n = 6 and factorial = 120\n"
     ]
    }
   ],
   "source": [
    "factorial = 1\n",
    "\n",
    "for n in range(1, num + 1):\n",
    "    print(f\"n = {n} and factorial = {factorial}\")\n",
    "    factorial *= n"
   ]
  },
  {
   "cell_type": "code",
   "execution_count": 4,
   "metadata": {},
   "outputs": [
    {
     "data": {
      "text/plain": [
       "720"
      ]
     },
     "execution_count": 4,
     "metadata": {},
     "output_type": "execute_result"
    }
   ],
   "source": [
    "factorial"
   ]
  },
  {
   "cell_type": "markdown",
   "metadata": {},
   "source": []
  }
 ],
 "metadata": {
  "kernelspec": {
   "display_name": "Python 3 (ipykernel)",
   "language": "python",
   "name": "python3"
  },
  "language_info": {
   "codemirror_mode": {
    "name": "ipython",
    "version": 3
   },
   "file_extension": ".py",
   "mimetype": "text/x-python",
   "name": "python",
   "nbconvert_exporter": "python",
   "pygments_lexer": "ipython3",
   "version": "3.9.12"
  }
 },
 "nbformat": 4,
 "nbformat_minor": 2
}
