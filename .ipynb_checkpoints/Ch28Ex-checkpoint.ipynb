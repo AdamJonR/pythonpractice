{
 "cells": [
  {
   "cell_type": "markdown",
   "id": "95f11e49",
   "metadata": {},
   "source": [
    "# Welcome to This Test\n",
    "\n",
    "This is a great test to ensure that my GitHub Desktop Client is functioning properly."
   ]
  },
  {
   "cell_type": "code",
   "execution_count": 1,
   "id": "d6bb98c0",
   "metadata": {},
   "outputs": [
    {
     "name": "stdout",
     "output_type": "stream",
     "text": [
      "Yes, this is indeed a great test!\n"
     ]
    }
   ],
   "source": [
    "print(\"Yes, this is indeed a great test!\")"
   ]
  },
  {
   "cell_type": "code",
   "execution_count": null,
   "id": "463bcfb4",
   "metadata": {},
   "outputs": [],
   "source": []
  }
 ],
 "metadata": {
  "kernelspec": {
   "display_name": "Python 3 (ipykernel)",
   "language": "python",
   "name": "python3"
  },
  "language_info": {
   "codemirror_mode": {
    "name": "ipython",
    "version": 3
   },
   "file_extension": ".py",
   "mimetype": "text/x-python",
   "name": "python",
   "nbconvert_exporter": "python",
   "pygments_lexer": "ipython3",
   "version": "3.9.12"
  }
 },
 "nbformat": 4,
 "nbformat_minor": 5
}
