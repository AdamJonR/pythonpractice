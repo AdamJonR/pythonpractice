{
 "cells": [
  {
   "cell_type": "markdown",
   "id": "63040b2f",
   "metadata": {},
   "source": [
    "# Chapter 3 Code Set Responses\n",
    "\n",
    "Here are my Chapter 3 Code Set Responses. "
   ]
  },
  {
   "cell_type": "code",
   "execution_count": 1,
   "id": "438c5ec7",
   "metadata": {},
   "outputs": [
    {
     "name": "stdout",
     "output_type": "stream",
     "text": [
      "Is anyone in your party a vegetarian?\n",
      "yes\n"
     ]
    }
   ],
   "source": [
    "print(\"Is anyone in your party a vegetarian?\")\n",
    "vegetarian = input().lower().strip()"
   ]
  },
  {
   "cell_type": "code",
   "execution_count": 2,
   "id": "de9d5d0e",
   "metadata": {},
   "outputs": [
    {
     "name": "stdout",
     "output_type": "stream",
     "text": [
      "Is anyone in your party a vegan?\n",
      "no\n"
     ]
    }
   ],
   "source": [
    "print(\"Is anyone in your party a vegan?\")\n",
    "vegan = input().lower().strip()"
   ]
  },
  {
   "cell_type": "code",
   "execution_count": 3,
   "id": "8fe31235",
   "metadata": {},
   "outputs": [
    {
     "name": "stdout",
     "output_type": "stream",
     "text": [
      "Is anyone in your party gluten-free?\n",
      "no\n"
     ]
    }
   ],
   "source": [
    "print(\"Is anyone in your party gluten-free?\")\n",
    "gluten_free = input().lower().strip()"
   ]
  },
  {
   "cell_type": "code",
   "execution_count": 4,
   "id": "6b86c0b1",
   "metadata": {},
   "outputs": [
    {
     "name": "stdout",
     "output_type": "stream",
     "text": [
      "Here are your restaurant choices:\n"
     ]
    }
   ],
   "source": [
    "print(\"Here are your restaurant choices:\")"
   ]
  },
  {
   "cell_type": "code",
   "execution_count": 5,
   "id": "d5cb1c9a",
   "metadata": {},
   "outputs": [
    {
     "name": "stdout",
     "output_type": "stream",
     "text": [
      "Main Street Pizza Company\n",
      "Mama’s Fine Italian\n",
      "Corner Café\n",
      "The Chef’s Kitchen\n"
     ]
    }
   ],
   "source": [
    "if vegetarian != \"yes\" and vegan != \"yes\" and gluten_free != \"yes\":\n",
    "    print(\"Joe’s Gourmet Burgers\")\n",
    "    \n",
    "if vegan == \"no\":\n",
    "    print(\"Main Street Pizza Company\")\n",
    "    \n",
    "if vegan == \"no\" and gluten_free == \"no\":\n",
    "    print(\"Mama’s Fine Italian\")\n",
    "    \n",
    "print(\"Corner Café\")\n",
    "print(\"The Chef’s Kitchen\")"
   ]
  },
  {
   "cell_type": "code",
   "execution_count": null,
   "id": "60822ba1",
   "metadata": {},
   "outputs": [],
   "source": []
  },
  {
   "cell_type": "code",
   "execution_count": null,
   "id": "69e4f2e6",
   "metadata": {},
   "outputs": [],
   "source": []
  }
 ],
 "metadata": {
  "kernelspec": {
   "display_name": "Python 3 (ipykernel)",
   "language": "python",
   "name": "python3"
  },
  "language_info": {
   "codemirror_mode": {
    "name": "ipython",
    "version": 3
   },
   "file_extension": ".py",
   "mimetype": "text/x-python",
   "name": "python",
   "nbconvert_exporter": "python",
   "pygments_lexer": "ipython3",
   "version": "3.9.12"
  }
 },
 "nbformat": 4,
 "nbformat_minor": 5
}
